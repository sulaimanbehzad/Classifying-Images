{
  "nbformat": 4,
  "nbformat_minor": 0,
  "metadata": {
    "colab": {
      "name": "Image Classifiers.ipynb",
      "provenance": [],
      "mount_file_id": "https://github.com/sulaimanbehzad/Classifying-Images/blob/main/Image_Classifiers.ipynb",
      "authorship_tag": "ABX9TyMo+ru9DJlWTv+PR8SiFldB",
      "include_colab_link": true
    },
    "kernelspec": {
      "name": "python3",
      "display_name": "Python 3"
    }
  },
  "cells": [
    {
      "cell_type": "markdown",
      "metadata": {
        "id": "view-in-github",
        "colab_type": "text"
      },
      "source": [
        "<a href=\"https://colab.research.google.com/github/sulaimanbehzad/Classifying-Images/blob/main/Image_Classifiers.ipynb\" target=\"_parent\"><img src=\"https://colab.research.google.com/assets/colab-badge.svg\" alt=\"Open In Colab\"/></a>"
      ]
    },
    {
      "cell_type": "markdown",
      "metadata": {
        "id": "iXCGKES9z2uu"
      },
      "source": [
        "# Classifiers\r\n",
        "The purpose of this project is to train two classifiers:\r\n",
        "1. Captions classifier\r\n",
        "2. Image classifier"
      ]
    },
    {
      "cell_type": "code",
      "metadata": {
        "id": "enfmzwTK6_aE",
        "colab": {
          "base_uri": "https://localhost:8080/"
        },
        "outputId": "c67383ff-5854-4a65-b122-7168123dfaf1"
      },
      "source": [
        "import pandas as pd\r\n",
        "import numpy as np\r\n",
        "import os\r\n",
        "import glob\r\n",
        "import matplotlib.pyplot as plt\r\n",
        "from sklearn.preprocessing import LabelBinarizer, LabelEncoder\r\n",
        "from sklearn.metrics import confusion_matrix\r\n",
        "\r\n",
        "import tensorflow as tf\r\n",
        "from tensorflow import keras\r\n",
        "from keras.models import Sequential\r\n",
        "from keras.layers import Dense, Activation, Dropout\r\n",
        "from keras.preprocessing import text, sequence\r\n",
        "from keras import utils\r\n",
        "\r\n",
        "# Let's check the version of TensorFlow in Colab\r\n",
        "print(\"TensorFlow's version: \", tf.__version__)"
      ],
      "execution_count": 26,
      "outputs": [
        {
          "output_type": "stream",
          "text": [
            "TensorFlow's version:  2.4.1\n"
          ],
          "name": "stdout"
        }
      ]
    },
    {
      "cell_type": "markdown",
      "metadata": {
        "id": "quS7tRcgGr7x"
      },
      "source": [
        "## Part 1: Captions Classifier"
      ]
    },
    {
      "cell_type": "markdown",
      "metadata": {
        "id": "ZAKptlEqGxda"
      },
      "source": [
        "Reading the txt files and formatting them into a dataframe"
      ]
    },
    {
      "cell_type": "code",
      "metadata": {
        "id": "eS32CGUV7QZQ"
      },
      "source": [
        "# function for reading text files into a pandas dataframe\r\n",
        "def read_data_into_df(filespath):\r\n",
        "  levels = 0\r\n",
        "  for roots, dirnames, filenames in os.walk(filespath):\r\n",
        "    if levels == 0:\r\n",
        "      df = pd.DataFrame(columns=dirnames)\r\n",
        "    txt_list = []\r\n",
        "    for fn in filenames:\r\n",
        "      txtfile_full_path = os.path.join(roots, fn)\r\n",
        "      # print(txtfile_full_path)\r\n",
        "      # temp=pd.read_csv(txtfile_full_path,sep=\"\\\\n\", header=None, error_bad_lines=False)\r\n",
        "      # print('shape of temp: ', temp.shape)\r\n",
        "      # txt_list.append(temp.values)\r\n",
        "      # -------------------- another approach to read txt files\r\n",
        "      with open(txtfile_full_path) as f:\r\n",
        "        txt_list.append(f.read())\r\n",
        "    root = os.path.split(roots) \r\n",
        "    root = root[1]\r\n",
        "    # print(root)\r\n",
        "    if levels != 0:\r\n",
        "      df[root] = txt_list\r\n",
        "    levels+=1\r\n",
        "  return df\r\n"
      ],
      "execution_count": 5,
      "outputs": []
    },
    {
      "cell_type": "code",
      "metadata": {
        "collapsed": true,
        "id": "g7SlG4NBQIjx"
      },
      "source": [
        "path_train_sentences = r'/content/drive/MyDrive/dataset/train/sentences'   \r\n",
        "path_test_sentences =  r'/content/drive/MyDrive/dataset/test/sentences'   \r\n",
        "train = read_data_into_df(path_train_sentences)\r\n",
        "test = read_data_into_df(path_test_sentences)"
      ],
      "execution_count": 6,
      "outputs": []
    },
    {
      "cell_type": "markdown",
      "metadata": {
        "id": "BHqn1AOA5oFI"
      },
      "source": [
        "### Dataframe inspection, evaluation and preprocessing\r\n"
      ]
    },
    {
      "cell_type": "code",
      "metadata": {
        "colab": {
          "base_uri": "https://localhost:8080/",
          "height": 747
        },
        "id": "BCEEUJk2YbKh",
        "outputId": "bc32ecee-af58-4e89-8dab-6466b3c04a77"
      },
      "source": [
        "train.head()"
      ],
      "execution_count": 7,
      "outputs": [
        {
          "output_type": "execute_result",
          "data": {
            "text/html": [
              "<div>\n",
              "<style scoped>\n",
              "    .dataframe tbody tr th:only-of-type {\n",
              "        vertical-align: middle;\n",
              "    }\n",
              "\n",
              "    .dataframe tbody tr th {\n",
              "        vertical-align: top;\n",
              "    }\n",
              "\n",
              "    .dataframe thead th {\n",
              "        text-align: right;\n",
              "    }\n",
              "</style>\n",
              "<table border=\"1\" class=\"dataframe\">\n",
              "  <thead>\n",
              "    <tr style=\"text-align: right;\">\n",
              "      <th></th>\n",
              "      <th>bird</th>\n",
              "      <th>aeroplane</th>\n",
              "      <th>bicycle</th>\n",
              "      <th>car</th>\n",
              "      <th>chair</th>\n",
              "      <th>dog</th>\n",
              "      <th>cat</th>\n",
              "      <th>bus</th>\n",
              "      <th>diningtable</th>\n",
              "      <th>cow</th>\n",
              "      <th>boat</th>\n",
              "      <th>motorbike</th>\n",
              "      <th>horse</th>\n",
              "      <th>pottedplant</th>\n",
              "      <th>tvmonitor</th>\n",
              "      <th>person</th>\n",
              "      <th>sheep</th>\n",
              "      <th>train</th>\n",
              "      <th>sofa</th>\n",
              "    </tr>\n",
              "  </thead>\n",
              "  <tbody>\n",
              "    <tr>\n",
              "      <th>0</th>\n",
              "      <td>a lifeguard tower and a yellow lifeguard truck...</td>\n",
              "      <td>A boat is in the water and a small airplane is...</td>\n",
              "      <td>A man knees on the ground while talking on his...</td>\n",
              "      <td>A clean, shiny black tire in the rear of a tru...</td>\n",
              "      <td>A black cat looking at image in a mirror.\\nA b...</td>\n",
              "      <td>A small white dog standing, wearing some dog-c...</td>\n",
              "      <td>A ginger cat laying on black plastic.\\nAn oran...</td>\n",
              "      <td>A bus drives down a busy road.\\na bus driving ...</td>\n",
              "      <td>A close-up of a head table set with gray napki...</td>\n",
              "      <td>A close-up of a cream animal with big ears and...</td>\n",
              "      <td>A cruise ship docked at a coast.\\nA docked blu...</td>\n",
              "      <td>A close up of the front end of a purple and wh...</td>\n",
              "      <td>A jockey races on the number 6 gray horse.\\na ...</td>\n",
              "      <td>An indoor plant in a yellow pot by a window.\\n...</td>\n",
              "      <td>A home office with three computer monitors and...</td>\n",
              "      <td>A man driving an orange scooter through a tunn...</td>\n",
              "      <td>A adult and two young sheep in a field\\nAdult ...</td>\n",
              "      <td>A small train stopped on the tracks in a park....</td>\n",
              "      <td>Teenagers hanging out in their room.\\nTwo guys...</td>\n",
              "    </tr>\n",
              "    <tr>\n",
              "      <th>1</th>\n",
              "      <td>A close up of a seagull with others in the bac...</td>\n",
              "      <td>An airplane sitting on the tarmac at an airpor...</td>\n",
              "      <td>A bicycle racer in front of a car which has tw...</td>\n",
              "      <td>A BOAC Boeing 747 sitting on the airport tarma...</td>\n",
              "      <td>A smiling woman with a beer sitting outside wi...</td>\n",
              "      <td>A brown dog curled up in its bed.\\nA dog layin...</td>\n",
              "      <td>A cat is looking out the window.\\nA cat lookin...</td>\n",
              "      <td>A double decker bus on a city street.\\nA red d...</td>\n",
              "      <td>A naturally stained wooden table with four cha...</td>\n",
              "      <td>Several cows grazing on grass in field.\\nThree...</td>\n",
              "      <td>A group of river barges with trees in the back...</td>\n",
              "      <td>A helmet wearing motorcycle stuntman performs ...</td>\n",
              "      <td>A foal frolicking in a grassy field.\\nA pony r...</td>\n",
              "      <td>A black and white cat gets into a basket of ya...</td>\n",
              "      <td>A television and entertainment center.\\nA wide...</td>\n",
              "      <td>A man is smiling in a garden\\nA man kneeling d...</td>\n",
              "      <td>A large field containing a group of sheep with...</td>\n",
              "      <td>A colorful train\\nAn old American steam engine...</td>\n",
              "      <td>A woman is lying across the laps of two men si...</td>\n",
              "    </tr>\n",
              "    <tr>\n",
              "      <th>2</th>\n",
              "      <td>An American Eagle standing on a post with its ...</td>\n",
              "      <td>A small plane parked at an airfield with a clo...</td>\n",
              "      <td>Cyclists crossing a metal bridge.\\nSeveral peo...</td>\n",
              "      <td>A large green bus on the street.\\nA large gree...</td>\n",
              "      <td>A desk and chair are illuminated and near a la...</td>\n",
              "      <td>A close up picture of a Saint Bernard.\\nA larg...</td>\n",
              "      <td>A black stripped cat\\nA striped cat laying dow...</td>\n",
              "      <td>A Continental air liner parked at an airport.\\...</td>\n",
              "      <td>A group of elderly people pose around a dining...</td>\n",
              "      <td>a girl with glasses and a brown cow\\na woman p...</td>\n",
              "      <td>Airplanes flying in formation over boats in a ...</td>\n",
              "      <td>A family preparing to ride dirt bikes.\\nA man ...</td>\n",
              "      <td>a bald man smiling with a black, white-haired ...</td>\n",
              "      <td>A line outside of a bookstore on a street.\\nA ...</td>\n",
              "      <td>A man pressing a button on a television.\\nA ma...</td>\n",
              "      <td>A woman in a t-shirt chops mushrooms.\\nA woman...</td>\n",
              "      <td>A domestic animal stands in a pen.\\nA sheep st...</td>\n",
              "      <td>An indoor train depot with trains on both side...</td>\n",
              "      <td>A dining table in front of a window with two s...</td>\n",
              "    </tr>\n",
              "    <tr>\n",
              "      <th>3</th>\n",
              "      <td>A blue bird standing on a lawn.\\nA blue jay st...</td>\n",
              "      <td>a larger plane in flying above a smaller plane...</td>\n",
              "      <td>A person rides a bicycle on concrete.\\nA woman...</td>\n",
              "      <td>A white limo is parked on the side of a street...</td>\n",
              "      <td>An smiling asian child sits beside a young wom...</td>\n",
              "      <td>an old black woman wearing a turban and a head...</td>\n",
              "      <td>A brown cat sits by a window.\\nA graceful cat ...</td>\n",
              "      <td>A park garden in front of red trolleys and a l...</td>\n",
              "      <td>Several people holding glasses of wine at tabl...</td>\n",
              "      <td>Two black ox with goods on their back.\\nTwo la...</td>\n",
              "      <td>a boat with two people on blue water in front ...</td>\n",
              "      <td>A heavy traffic scene with many cars and motor...</td>\n",
              "      <td>Two brown horses in a pasture.\\nTwo brown hors...</td>\n",
              "      <td>Two blue macaws sit on a perch in a lush green...</td>\n",
              "      <td>A boy looking at a computer screen.\\nA boy loo...</td>\n",
              "      <td>A close-up of two women posing with their thum...</td>\n",
              "      <td>A black sheep and a white sheep stand on grass...</td>\n",
              "      <td>A long train is on train tracks.\\nA yellow fre...</td>\n",
              "      <td>a living room with a birdcage in the left corn...</td>\n",
              "    </tr>\n",
              "    <tr>\n",
              "      <th>4</th>\n",
              "      <td>a close up head of an ostrich\\nA close up of a...</td>\n",
              "      <td>A passenger aircraft with landing gear down.\\n...</td>\n",
              "      <td>A bicycle is parked by a shop.\\nA bicycle is p...</td>\n",
              "      <td>A four-wheel-drive vehicle is crossing a strea...</td>\n",
              "      <td>A black and white bench next to a window.\\nA b...</td>\n",
              "      <td>A man holds a ball in a puppies mouth.\\nA pupp...</td>\n",
              "      <td>A gray cat laying on a brown table.\\nA grey ca...</td>\n",
              "      <td>A group of teenagers dancing near a bus.\\nElev...</td>\n",
              "      <td>A dining room containing two tables.\\nAn empty...</td>\n",
              "      <td>The large cows hover over the young calf.\\nThr...</td>\n",
              "      <td>Two men on a pebble beach, near the edge of th...</td>\n",
              "      <td>A man sitting on a porch with two motor scoote...</td>\n",
              "      <td>A jockey riding a horse in a pen.\\nAn English-...</td>\n",
              "      <td>a close up of a small cactus in a pot\\nA close...</td>\n",
              "      <td>A close-up picture of a desk with a computer a...</td>\n",
              "      <td>A person jumping a dirt bike with a boy watchi...</td>\n",
              "      <td>A sheep in a patch of green grass.\\nA sheep st...</td>\n",
              "      <td>A blue and yellow train crosses a river near a...</td>\n",
              "      <td>A black leather couch with a chew' lounge and ...</td>\n",
              "    </tr>\n",
              "  </tbody>\n",
              "</table>\n",
              "</div>"
            ],
            "text/plain": [
              "                                                bird  ...                                               sofa\n",
              "0  a lifeguard tower and a yellow lifeguard truck...  ...  Teenagers hanging out in their room.\\nTwo guys...\n",
              "1  A close up of a seagull with others in the bac...  ...  A woman is lying across the laps of two men si...\n",
              "2  An American Eagle standing on a post with its ...  ...  A dining table in front of a window with two s...\n",
              "3  A blue bird standing on a lawn.\\nA blue jay st...  ...  a living room with a birdcage in the left corn...\n",
              "4  a close up head of an ostrich\\nA close up of a...  ...  A black leather couch with a chew' lounge and ...\n",
              "\n",
              "[5 rows x 19 columns]"
            ]
          },
          "metadata": {
            "tags": []
          },
          "execution_count": 7
        }
      ]
    },
    {
      "cell_type": "code",
      "metadata": {
        "colab": {
          "base_uri": "https://localhost:8080/",
          "height": 730
        },
        "id": "bU47h99KenE9",
        "outputId": "3691e197-785a-4575-c637-cdf8717ab585"
      },
      "source": [
        "test.head()"
      ],
      "execution_count": 8,
      "outputs": [
        {
          "output_type": "execute_result",
          "data": {
            "text/html": [
              "<div>\n",
              "<style scoped>\n",
              "    .dataframe tbody tr th:only-of-type {\n",
              "        vertical-align: middle;\n",
              "    }\n",
              "\n",
              "    .dataframe tbody tr th {\n",
              "        vertical-align: top;\n",
              "    }\n",
              "\n",
              "    .dataframe thead th {\n",
              "        text-align: right;\n",
              "    }\n",
              "</style>\n",
              "<table border=\"1\" class=\"dataframe\">\n",
              "  <thead>\n",
              "    <tr style=\"text-align: right;\">\n",
              "      <th></th>\n",
              "      <th>aeroplane</th>\n",
              "      <th>dog</th>\n",
              "      <th>bus</th>\n",
              "      <th>boat</th>\n",
              "      <th>cow</th>\n",
              "      <th>diningtable</th>\n",
              "      <th>cat</th>\n",
              "      <th>bicycle</th>\n",
              "      <th>bird</th>\n",
              "      <th>chair</th>\n",
              "      <th>car</th>\n",
              "      <th>pottedplant</th>\n",
              "      <th>motorbike</th>\n",
              "      <th>train</th>\n",
              "      <th>person</th>\n",
              "      <th>tvmonitor</th>\n",
              "      <th>sofa</th>\n",
              "      <th>sheep</th>\n",
              "      <th>horse</th>\n",
              "    </tr>\n",
              "  </thead>\n",
              "  <tbody>\n",
              "    <tr>\n",
              "      <th>0</th>\n",
              "      <td>A large passenger plane on a landing strip.\\nA...</td>\n",
              "      <td>A black and white dog sniffing at a closed doo...</td>\n",
              "      <td>A view of a street filled with vehicles, peopl...</td>\n",
              "      <td>A sailboat at sea\\nA sailboat with a yellow sa...</td>\n",
              "      <td>a father is introducing his daughter to a cow ...</td>\n",
              "      <td>A bronze statue of a buddy holding a candle si...</td>\n",
              "      <td>A cat sitting on sand looking up at the camera...</td>\n",
              "      <td>Two African men carry a tied up animal in the ...</td>\n",
              "      <td>A hand holding bird seed and a small bird.\\nA ...</td>\n",
              "      <td>A group of people sitting around a table on a ...</td>\n",
              "      <td>A boy sits on a horse near a group of people a...</td>\n",
              "      <td>A living with pink walls.\\nA room with pink wa...</td>\n",
              "      <td>African man on blue bike posing with 2 friends...</td>\n",
              "      <td>an old wooden train heading toward an old stat...</td>\n",
              "      <td>A guy wearing a cap backwards and standing bet...</td>\n",
              "      <td>A close-up of a computer sitting on a desk wit...</td>\n",
              "      <td>A dark brown dog on a blue loveseat and a ligh...</td>\n",
              "      <td>A large ram at the top of a hill.\\nAnimal stan...</td>\n",
              "      <td>Horse outfitted with riding gear.\\nThere are t...</td>\n",
              "    </tr>\n",
              "    <tr>\n",
              "      <th>1</th>\n",
              "      <td>A blue airplane beside the blue water.\\nA blue...</td>\n",
              "      <td>A brown dog lying on the grass.\\nA brown dog s...</td>\n",
              "      <td>A red double decker bus is picking up more pas...</td>\n",
              "      <td>A fisherman in a small boat in the middle of a...</td>\n",
              "      <td>a black and white photo of a cow under a tree\\...</td>\n",
              "      <td>A group of friends gathered in a restaurant ea...</td>\n",
              "      <td>A cat looks away while laying down in an offic...</td>\n",
              "      <td>Bikers lean into a turn during a race.\\nRacing...</td>\n",
              "      <td>A humming bird feeding\\nA hummingbird on a bra...</td>\n",
              "      <td>A bulldog is sitting on a yellow chair, which ...</td>\n",
              "      <td>A blonde in a polka-dot bikini poses in front ...</td>\n",
              "      <td>A potted plant with only two leaves sprouted.\\...</td>\n",
              "      <td>A BMW motorcycle parked between two cars.\\nA r...</td>\n",
              "      <td>A passenger train waiting in a station.\\nA red...</td>\n",
              "      <td>A large white bus parked next to a blue truck ...</td>\n",
              "      <td>A Mickey Mouse figurine is sitting next to a t...</td>\n",
              "      <td>A black and white photo of a love seat.\\nA bla...</td>\n",
              "      <td>A sheep with a tree in the foreground.\\nSheep ...</td>\n",
              "      <td>A boy and his mom feeding ponies through the f...</td>\n",
              "    </tr>\n",
              "    <tr>\n",
              "      <th>2</th>\n",
              "      <td>A gray jet on a tarmac.\\nAn airplane being ins...</td>\n",
              "      <td>An elderly woman poses beside a small child dr...</td>\n",
              "      <td>A double-decker bus passes a row of flags.\\nA ...</td>\n",
              "      <td>An ocean liner at sea.\\nA picture of a large s...</td>\n",
              "      <td>A black and white cow looking through the fenc...</td>\n",
              "      <td>Two people are sitting in a small antique shop...</td>\n",
              "      <td>A brown cat wearing a shiny collar with a blue...</td>\n",
              "      <td>A child holding large bags stands next to a ta...</td>\n",
              "      <td>A bird standing on top of a wooden fencepost.\\...</td>\n",
              "      <td>A boy and a girl smile while standing by some ...</td>\n",
              "      <td>An Esso gas station with trees in the backgrou...</td>\n",
              "      <td>Herbs grow in terra cotta plants on a balcony....</td>\n",
              "      <td>A black and white photo of a motorcycle laying...</td>\n",
              "      <td>A black train engine is facing me on the track...</td>\n",
              "      <td>a man on a dirt bike jumping very high.\\nA man...</td>\n",
              "      <td>Several televisions are on the floor and stack...</td>\n",
              "      <td>A woman and elderly woman sitting together pos...</td>\n",
              "      <td>Distant view of two lambs perched on top of a ...</td>\n",
              "      <td>A man in a black uniform on a white horse.\\nA ...</td>\n",
              "    </tr>\n",
              "    <tr>\n",
              "      <th>3</th>\n",
              "      <td>An airplane facing the camera.\\nA plane is sit...</td>\n",
              "      <td>A brindle dog lying on a cushion next to a pla...</td>\n",
              "      <td>A large yellow bus is parked next to a buildin...</td>\n",
              "      <td>Boats anchor off a short distance from the sho...</td>\n",
              "      <td>A black and white horned cow standing in a fie...</td>\n",
              "      <td>A man holding a baby and a woman eating at a t...</td>\n",
              "      <td>A kitten looking at the camera.\\nA kitten lyin...</td>\n",
              "      <td>A main holds two bikes near a beach.\\nA young ...</td>\n",
              "      <td>A white bird flying up onto a tree.\\nA white b...</td>\n",
              "      <td>An empty hallway leading into a room with brow...</td>\n",
              "      <td>A two story building on a street with a white ...</td>\n",
              "      <td>A courtyard with a small pagoda in the center....</td>\n",
              "      <td>A motorcycle parked next to a car.\\nA silver a...</td>\n",
              "      <td>A moving train in a suburban area\\nA train is ...</td>\n",
              "      <td>A woman in a black bikini top and jeans.\\nA wo...</td>\n",
              "      <td>A computer desk displays elvis memorabilia.\\nA...</td>\n",
              "      <td>a blue couch with Power Puff Girls cushions wi...</td>\n",
              "      <td>A close-up of a lamb with its ear tagged, stan...</td>\n",
              "      <td>A man in a tux on a white horse.\\nA man wearin...</td>\n",
              "    </tr>\n",
              "    <tr>\n",
              "      <th>4</th>\n",
              "      <td>Airplane on runway in front of buildings.\\nAn ...</td>\n",
              "      <td>a dog in the kitchen drinking water from a bow...</td>\n",
              "      <td>A bus\\nA white bus parked by a building.\\nThe ...</td>\n",
              "      <td>A bus parked by a harbor.\\nA white bus with th...</td>\n",
              "      <td>About nine cows are laying on some mulch in a ...</td>\n",
              "      <td>A country dinner setting with a bounty of food...</td>\n",
              "      <td>A small cat laying on a wooden beam looking up...</td>\n",
              "      <td>A black and white image of a cyclist riding in...</td>\n",
              "      <td>A bird eating from a bird feeder.\\nA bird land...</td>\n",
              "      <td>A modern open plan living room and kitchen.\\nA...</td>\n",
              "      <td>a black and white image of a dog out of a truc...</td>\n",
              "      <td>Three dark haired young women in white, red an...</td>\n",
              "      <td>Motorcycles withjackets\\nParked motorcycles re...</td>\n",
              "      <td>A man walking past the red and yellow train.\\n...</td>\n",
              "      <td>A man jogging in a race.\\nA man running a race...</td>\n",
              "      <td>A living room with a green sofa, table and TV....</td>\n",
              "      <td>Two smiling young ladies sitting on a couch.\\n...</td>\n",
              "      <td>A group of sheep and a sheep dog in a large fi...</td>\n",
              "      <td>A close-up view of a little girl riding a hors...</td>\n",
              "    </tr>\n",
              "  </tbody>\n",
              "</table>\n",
              "</div>"
            ],
            "text/plain": [
              "                                           aeroplane  ...                                              horse\n",
              "0  A large passenger plane on a landing strip.\\nA...  ...  Horse outfitted with riding gear.\\nThere are t...\n",
              "1  A blue airplane beside the blue water.\\nA blue...  ...  A boy and his mom feeding ponies through the f...\n",
              "2  A gray jet on a tarmac.\\nAn airplane being ins...  ...  A man in a black uniform on a white horse.\\nA ...\n",
              "3  An airplane facing the camera.\\nA plane is sit...  ...  A man in a tux on a white horse.\\nA man wearin...\n",
              "4  Airplane on runway in front of buildings.\\nAn ...  ...  A close-up view of a little girl riding a hors...\n",
              "\n",
              "[5 rows x 19 columns]"
            ]
          },
          "metadata": {
            "tags": []
          },
          "execution_count": 8
        }
      ]
    },
    {
      "cell_type": "markdown",
      "metadata": {
        "id": "lMsQhMKy52w3"
      },
      "source": [
        "The dataframes don't have any null values so we are good to go on that aspect  \r\n",
        "What remains is to add tags to the captions of each type"
      ]
    },
    {
      "cell_type": "code",
      "metadata": {
        "colab": {
          "base_uri": "https://localhost:8080/"
        },
        "id": "gezkhxEteout",
        "outputId": "33bea681-257b-4c97-c926-5d822144998d"
      },
      "source": [
        "train.info()"
      ],
      "execution_count": 9,
      "outputs": [
        {
          "output_type": "stream",
          "text": [
            "<class 'pandas.core.frame.DataFrame'>\n",
            "RangeIndex: 28 entries, 0 to 27\n",
            "Data columns (total 19 columns):\n",
            " #   Column       Non-Null Count  Dtype \n",
            "---  ------       --------------  ----- \n",
            " 0   bird         28 non-null     object\n",
            " 1   aeroplane    28 non-null     object\n",
            " 2   bicycle      28 non-null     object\n",
            " 3   car          28 non-null     object\n",
            " 4   chair        28 non-null     object\n",
            " 5   dog          28 non-null     object\n",
            " 6   cat          28 non-null     object\n",
            " 7   bus          28 non-null     object\n",
            " 8   diningtable  28 non-null     object\n",
            " 9   cow          28 non-null     object\n",
            " 10  boat         28 non-null     object\n",
            " 11  motorbike    28 non-null     object\n",
            " 12  horse        28 non-null     object\n",
            " 13  pottedplant  28 non-null     object\n",
            " 14  tvmonitor    28 non-null     object\n",
            " 15  person       28 non-null     object\n",
            " 16  sheep        28 non-null     object\n",
            " 17  train        28 non-null     object\n",
            " 18  sofa         28 non-null     object\n",
            "dtypes: object(19)\n",
            "memory usage: 4.3+ KB\n"
          ],
          "name": "stdout"
        }
      ]
    },
    {
      "cell_type": "code",
      "metadata": {
        "colab": {
          "base_uri": "https://localhost:8080/"
        },
        "id": "C5M7d2IueqO7",
        "outputId": "3108718f-dcd7-446a-babd-a9fe73c426a7"
      },
      "source": [
        "test.info()"
      ],
      "execution_count": 10,
      "outputs": [
        {
          "output_type": "stream",
          "text": [
            "<class 'pandas.core.frame.DataFrame'>\n",
            "RangeIndex: 20 entries, 0 to 19\n",
            "Data columns (total 19 columns):\n",
            " #   Column       Non-Null Count  Dtype \n",
            "---  ------       --------------  ----- \n",
            " 0   aeroplane    20 non-null     object\n",
            " 1   dog          20 non-null     object\n",
            " 2   bus          20 non-null     object\n",
            " 3   boat         20 non-null     object\n",
            " 4   cow          20 non-null     object\n",
            " 5   diningtable  20 non-null     object\n",
            " 6   cat          20 non-null     object\n",
            " 7   bicycle      20 non-null     object\n",
            " 8   bird         20 non-null     object\n",
            " 9   chair        20 non-null     object\n",
            " 10  car          20 non-null     object\n",
            " 11  pottedplant  20 non-null     object\n",
            " 12  motorbike    20 non-null     object\n",
            " 13  train        20 non-null     object\n",
            " 14  person       20 non-null     object\n",
            " 15  tvmonitor    20 non-null     object\n",
            " 16  sofa         20 non-null     object\n",
            " 17  sheep        20 non-null     object\n",
            " 18  horse        20 non-null     object\n",
            "dtypes: object(19)\n",
            "memory usage: 3.1+ KB\n"
          ],
          "name": "stdout"
        }
      ]
    },
    {
      "cell_type": "code",
      "metadata": {
        "colab": {
          "base_uri": "https://localhost:8080/"
        },
        "collapsed": true,
        "id": "GuddkUOuf1nA",
        "outputId": "19311aee-5232-456d-f16a-d31694e436e9"
      },
      "source": [
        "for i in train['chair']:\r\n",
        "  print(i)"
      ],
      "execution_count": 11,
      "outputs": [
        {
          "output_type": "stream",
          "text": [
            "A black cat looking at image in a mirror.\n",
            "A black cat sitting on a pink chair, next to a table holding a mirror and a plant.\n",
            "A black cat sitting on a pink folding chair staring into a mirror sitting on a table next to a plant.\n",
            "Black cat with pink collar staring into small mirror.\n",
            "The cat seems to like her reflection in the mirror.\n",
            "\n",
            "A smiling woman with a beer sitting outside with another smiling woman.\n",
            "Two seated women laughing with one holding a bottle.\n",
            "two women laugh together one is driving beer\n",
            "Two women sitting down laughing.\n",
            "Two women sitting outside laughing.\n",
            "\n",
            "A desk and chair are illuminated and near a laundry closet.\n",
            "A room with tan walls and a washer and dryer.\n",
            "A small desk with chair near a laundry closet.\n",
            "Small wood desk with papers spread on it.\n",
            "There is a small desk and chair in front of the laundry room.\n",
            "\n",
            "An smiling asian child sits beside a young women near a blue mosaic table.\n",
            "Asian mother and daughter seated at a dinner table.\n",
            "A small girl and a woman seated at a restaurant smile for the camera.\n",
            "A women and small child sitting at a dinner table smiling at the camera.\n",
            "The happy mom and daughter await their meal.\n",
            "\n",
            "A black and white bench next to a window.\n",
            "A black and white chair sitting in front of a brick wall and a window with a bamboo plant in a vase.\n",
            "A black and white designer chair against a brick wall.\n",
            "A modern styled, black and white armless chair with a metal frame sits against a brick wall by the window.\n",
            "Two tone chair in black and beige.\n",
            "\n",
            "A dark-skinned woman sits in a rocking chair holding a tiny baby wrapped in a blanket.\n",
            "An African-American woman in a rocking chair holds a newborn child.\n",
            "A woman holding a baby poses in a wooden rocking chair.\n",
            "A woman holding a small baby.\n",
            "A woman in black rocking a new baby wrapped in a blanket.\n",
            "\n",
            "A livingdining room with a large dining table on the right hand side.\n",
            "A nice dining room\n",
            "A room has a table and chairs and sofas in it.\n",
            "A room with contemporary furniture including a wooden table with six chairs and a couch.\n",
            "Well lit room with table and chairs, and other furniture.\n",
            "\n",
            "A group of red plastic chairs in a hall.\n",
            "Red chair in a tiled room.\n",
            "Red plastic chairs on a linoleum floor.\n",
            "There are red chairs, a yellow wall, a bluegreen designed wall and a table in this room.\n",
            "This brightly lit floorspace is littered with red plastic chairs.\n",
            "\n",
            "A plaid patterned bedspread in a room with plaid patterned wall paper.\n",
            "A small room containing a day bed with quilt and old books on the wall.\n",
            "The span style bedroom is small but clean.\n",
            "Two twin beds with old fashioned quilts.\n",
            "Very patterned room with bed made and wooden chair next to it.\n",
            "\n",
            "A group of people having a drink.\n",
            "Four males and two females seated around a table with beverage.\n",
            "Group of people sitting at table with drinks.\n",
            "Six people drinking at a long table at night.\n",
            "The people are sitting down to the table and they are drinking alcohol.\n",
            "\n",
            "A cubicle with a large, black office chair and a telephone on the desk.\n",
            "An empty office chair in a cubicle.\n",
            "An empty office cubicle.\n",
            "An empty office cubicle with chair, desk and phone.\n",
            "There is a telephone and a chair in the cubicle.\n",
            "\n",
            "A kitchen table in a room with white drapes and a china cabinet.\n",
            "A table under the lamp is next to a curtained window.\n",
            "Dining room containing a table and chairs along with a wooden cabinet.\n",
            "Dining table and chairs sitting under chandelier.\n",
            "The dining room table is ready for a meal.\n",
            "\n",
            "A computer monitor is turned on in a room with a chest of drawers and a terrier lamp.\n",
            "A light is on in the cluttered, butterscotch room with a computer desk and dresser.\n",
            "An orange room has a bureau and a desk with a computer.\n",
            "This is a cluttered youths bedroom.\n",
            "This room has orange walls, a white dresser, a computer and a lot of clutter.\n",
            "\n",
            "a close up of a woman holding a white puppy\n",
            "A puppy being held\n",
            "A sunburn woman holds a blonde fluffy puppy as it is petted.\n",
            "A tan puppy being held and petted.\n",
            "A tan puppy being petted.\n",
            "\n",
            "A boy in a tux and a girl in a blue dress sit at a wedding.\n",
            "A smiling girl in a turquoise dress seated in folding chairs next to a young blonde boy in a tuxedo.\n",
            "Two children, one male, one female, sitting in chairs at an event.\n",
            "Two kids sitting in folding chairs.\n",
            "Two young kids dressed up sitting down on chairs.\n",
            "\n",
            "A large pile of scrap wood.\n",
            "A large pile of wooden items piled high.\n",
            "A pile of scrap boards with a man behind and to the side.\n",
            "A pile of used wooden building materials with a chair on top.\n",
            "Pile of wooden debris with chair on top.\n",
            "\n",
            "A plate of food is laying on a pink tablecloth.\n",
            "A pot of food is placed in the center of a red tablecloth.\n",
            "A pot of liquid is at the center of a tinfoil covered plate.\n",
            "Someone stirs soup on a table of food.\n",
            "some seriously nasty looking food in a bowl with tinfoil\n",
            "\n",
            "A couple wearing black sits in a restaurant with a log cabin decor.\n",
            "A man and woman pose at a restaurant table with a maroon table cloth.\n",
            "A man and woman sit at a table in a restaurant.\n",
            "Two people sitting at a table at a restaurant.\n",
            "Wine and roses adorn the table while a happy couple poses for the photo.\n",
            "\n",
            "A baby secured in a chair\n",
            "A baby with blue eyes and a green shirt is sitting in a chair.\n",
            "A baby with his fingers in his mouth being held in a highchair by a red scarf.\n",
            "A small child holds its fingers in its mouth.\n",
            "Baby wearing green shirt tied into chair by a red shirt.\n",
            "\n",
            "a garden set in a small court\n",
            "A wooden patio set with blue seat covers is wet.\n",
            "Brown patio set with blue cushions on wet patio.\n",
            "Lawn furniture after a light rain.\n",
            "Wet outdoor furniture on a stone patio.\n",
            "\n",
            "A man poses on a maroon chair near a sofa with a bright pillow.\n",
            "A man sitting on a chair with legs crossed smiling at the camera.\n",
            "A smiling man who is wearing glasses is sitting on a chair with his legs crossed.\n",
            "Man sitting on red chair\n",
            "Young man with glasses sitting on red couch.\n",
            "\n",
            "A group of women posing for a picture.\n",
            "Three Indian girls dressed up for a gathering.\n",
            "Three women in Indian dresses in a crowded room smiling.\n",
            "Three women with brown hair are smiling\n",
            "Three young ladies from India in a restaurant.\n",
            "\n",
            "A child eating a cookie at a lemonade stand.\n",
            "A Lemonaide stand is manned by a blonde child with a cookie.\n",
            "A small child at a lemonade and cookie stand on a city corner.\n",
            "A small child eating a cookie while standing next to a lemonade stand.\n",
            "Young child behind lemonade stand eating a cookie.\n",
            "\n",
            "A close-up of a woman posing with a lotion bottle.\n",
            "A women sitting in a chair at Christmas holding make up.\n",
            "Girl on Christmas posing with a tube of cream.\n",
            "Woman dressed in red posing with Christmas present.\n",
            "Woman in red sweater presenting a bottle of cream.\n",
            "\n",
            "A man in a blue shirt is standing beside a table with a birthday cake.\n",
            "A man stands behind a birthday cake smiling.\n",
            "An elderly man stands behind a birthday cake with four candles.\n",
            "An older man poses for a photo in front of a birthday cake.\n",
            "An older man stands behind a birthday cake.\n",
            "\n",
            "Elderly man in an orange vest looking at a golf cart with another elderly man.\n",
            "The two old men are standing outside in front of the house.\n",
            "Two men looking at what appears to be a golf cart.\n",
            "Two men standing in grass staring at a car.\n",
            "Two middle-aged to older men stand in front of a brown farmhouse, looking at a small vehicle.\n",
            "\n",
            "Two girls in pink and blue outfits.\n",
            "Two women pose beneath a sign saying Welcome to English Camp.\n",
            "Two women posing by a \"Welcome to English Camp\" sign.\n",
            "Two women smile in front of a Welcome sign.\n",
            "Two women standing together in a hall posing for the camera.\n",
            "\n",
            "A man is posing in front of his computer.\n",
            "A man is smiling, while sitting at a computer on a desk.\n",
            "A man seated in front of a computer.\n",
            "A man wearing a sports jersey poses at a computer in front of curtains.\n",
            "An Asian man sits at a computer and looks at the camera.\n",
            "\n"
          ],
          "name": "stdout"
        }
      ]
    },
    {
      "cell_type": "code",
      "metadata": {
        "collapsed": true,
        "id": "GDxQOZpWgbEk"
      },
      "source": [
        "def make_tabular_df(df):\r\n",
        "  tags = df.columns\r\n",
        "  df_transpose = df.transpose(copy=False)\r\n",
        "  output = pd.DataFrame(columns=['captions',  'tags'])\r\n",
        "  for index, col in df_transpose.iteritems():\r\n",
        "    new = []\r\n",
        "    for item in col:\r\n",
        "      new.append(item)\r\n",
        "    df=pd.DataFrame({\"captions\": new, \"tags\": tags})\r\n",
        "    output=output.append(df)\r\n",
        "  return output\r\n"
      ],
      "execution_count": 12,
      "outputs": []
    },
    {
      "cell_type": "code",
      "metadata": {
        "colab": {
          "base_uri": "https://localhost:8080/",
          "height": 206
        },
        "id": "NqjbYrsU1zq7",
        "outputId": "004ecd12-3e2b-46f7-9fb2-1beb1b91e141"
      },
      "source": [
        "X_train = make_tabular_df(train)\r\n",
        "X_train.head()"
      ],
      "execution_count": 13,
      "outputs": [
        {
          "output_type": "execute_result",
          "data": {
            "text/html": [
              "<div>\n",
              "<style scoped>\n",
              "    .dataframe tbody tr th:only-of-type {\n",
              "        vertical-align: middle;\n",
              "    }\n",
              "\n",
              "    .dataframe tbody tr th {\n",
              "        vertical-align: top;\n",
              "    }\n",
              "\n",
              "    .dataframe thead th {\n",
              "        text-align: right;\n",
              "    }\n",
              "</style>\n",
              "<table border=\"1\" class=\"dataframe\">\n",
              "  <thead>\n",
              "    <tr style=\"text-align: right;\">\n",
              "      <th></th>\n",
              "      <th>captions</th>\n",
              "      <th>tags</th>\n",
              "    </tr>\n",
              "  </thead>\n",
              "  <tbody>\n",
              "    <tr>\n",
              "      <th>0</th>\n",
              "      <td>a lifeguard tower and a yellow lifeguard truck...</td>\n",
              "      <td>bird</td>\n",
              "    </tr>\n",
              "    <tr>\n",
              "      <th>1</th>\n",
              "      <td>A boat is in the water and a small airplane is...</td>\n",
              "      <td>aeroplane</td>\n",
              "    </tr>\n",
              "    <tr>\n",
              "      <th>2</th>\n",
              "      <td>A man knees on the ground while talking on his...</td>\n",
              "      <td>bicycle</td>\n",
              "    </tr>\n",
              "    <tr>\n",
              "      <th>3</th>\n",
              "      <td>A clean, shiny black tire in the rear of a tru...</td>\n",
              "      <td>car</td>\n",
              "    </tr>\n",
              "    <tr>\n",
              "      <th>4</th>\n",
              "      <td>A black cat looking at image in a mirror.\\nA b...</td>\n",
              "      <td>chair</td>\n",
              "    </tr>\n",
              "  </tbody>\n",
              "</table>\n",
              "</div>"
            ],
            "text/plain": [
              "                                            captions       tags\n",
              "0  a lifeguard tower and a yellow lifeguard truck...       bird\n",
              "1  A boat is in the water and a small airplane is...  aeroplane\n",
              "2  A man knees on the ground while talking on his...    bicycle\n",
              "3  A clean, shiny black tire in the rear of a tru...        car\n",
              "4  A black cat looking at image in a mirror.\\nA b...      chair"
            ]
          },
          "metadata": {
            "tags": []
          },
          "execution_count": 13
        }
      ]
    },
    {
      "cell_type": "code",
      "metadata": {
        "colab": {
          "base_uri": "https://localhost:8080/",
          "height": 206
        },
        "id": "YjEp1lEZpunw",
        "outputId": "bfbdf5f3-742d-4ed1-aecb-9101da2b8caf"
      },
      "source": [
        "X_test = make_tabular_df(test)\r\n",
        "X_test.head()"
      ],
      "execution_count": 14,
      "outputs": [
        {
          "output_type": "execute_result",
          "data": {
            "text/html": [
              "<div>\n",
              "<style scoped>\n",
              "    .dataframe tbody tr th:only-of-type {\n",
              "        vertical-align: middle;\n",
              "    }\n",
              "\n",
              "    .dataframe tbody tr th {\n",
              "        vertical-align: top;\n",
              "    }\n",
              "\n",
              "    .dataframe thead th {\n",
              "        text-align: right;\n",
              "    }\n",
              "</style>\n",
              "<table border=\"1\" class=\"dataframe\">\n",
              "  <thead>\n",
              "    <tr style=\"text-align: right;\">\n",
              "      <th></th>\n",
              "      <th>captions</th>\n",
              "      <th>tags</th>\n",
              "    </tr>\n",
              "  </thead>\n",
              "  <tbody>\n",
              "    <tr>\n",
              "      <th>0</th>\n",
              "      <td>A large passenger plane on a landing strip.\\nA...</td>\n",
              "      <td>aeroplane</td>\n",
              "    </tr>\n",
              "    <tr>\n",
              "      <th>1</th>\n",
              "      <td>A black and white dog sniffing at a closed doo...</td>\n",
              "      <td>dog</td>\n",
              "    </tr>\n",
              "    <tr>\n",
              "      <th>2</th>\n",
              "      <td>A view of a street filled with vehicles, peopl...</td>\n",
              "      <td>bus</td>\n",
              "    </tr>\n",
              "    <tr>\n",
              "      <th>3</th>\n",
              "      <td>A sailboat at sea\\nA sailboat with a yellow sa...</td>\n",
              "      <td>boat</td>\n",
              "    </tr>\n",
              "    <tr>\n",
              "      <th>4</th>\n",
              "      <td>a father is introducing his daughter to a cow ...</td>\n",
              "      <td>cow</td>\n",
              "    </tr>\n",
              "  </tbody>\n",
              "</table>\n",
              "</div>"
            ],
            "text/plain": [
              "                                            captions       tags\n",
              "0  A large passenger plane on a landing strip.\\nA...  aeroplane\n",
              "1  A black and white dog sniffing at a closed doo...        dog\n",
              "2  A view of a street filled with vehicles, peopl...        bus\n",
              "3  A sailboat at sea\\nA sailboat with a yellow sa...       boat\n",
              "4  a father is introducing his daughter to a cow ...        cow"
            ]
          },
          "metadata": {
            "tags": []
          },
          "execution_count": 14
        }
      ]
    },
    {
      "cell_type": "markdown",
      "metadata": {
        "id": "163mtZlT6zD7"
      },
      "source": [
        "We obtained the dataframes ready to go to next phase\r\n"
      ]
    },
    {
      "cell_type": "code",
      "metadata": {
        "colab": {
          "base_uri": "https://localhost:8080/",
          "height": 1000
        },
        "id": "lY1DWmbC_sjJ",
        "outputId": "3336d5cd-70b8-41bb-bc7f-77e41bdbe8c0"
      },
      "source": [
        "plt.figure(figsize=(24,20))\r\n",
        "X_train.tags.value_counts().plot(kind='bar', color=['Blue', 'Red', 'Brown', 'Gray']);"
      ],
      "execution_count": 67,
      "outputs": [
        {
          "output_type": "display_data",
          "data": {
            "image/png": "[encoded data removed]",
            "text/plain": [
              "<Figure size 1728x1440 with 1 Axes>"
            ]
          },
          "metadata": {
            "tags": [],
            "needs_background": "light"
          }
        }
      ]
    },
    {
      "cell_type": "markdown",
      "metadata": {
        "id": "RFLQNUtqLa2w"
      },
      "source": [
        "We can confirm visually that our dataset is balanced"
      ]
    },
    {
      "cell_type": "markdown",
      "metadata": {
        "id": "-Js66NL3IFWd"
      },
      "source": [
        "## Bag-Of-Words (BOW) with Keras"
      ]
    },
    {
      "cell_type": "code",
      "metadata": {
        "colab": {
          "base_uri": "https://localhost:8080/"
        },
        "id": "A7qgnRsBITSa",
        "outputId": "94e5f0db-9f25-465f-bb15-e48046d356cc"
      },
      "source": [
        "print(f\"train size: {len(X_train)}\")\r\n",
        "print(f\"test size: {len(X_test)}\")"
      ],
      "execution_count": 28,
      "outputs": [
        {
          "output_type": "stream",
          "text": [
            "train size: 532\n",
            "test size: 380\n"
          ],
          "name": "stdout"
        }
      ]
    },
    {
      "cell_type": "code",
      "metadata": {
        "id": "IhjGieriNphD"
      },
      "source": [
        "max_words = 1500\r\n",
        "tokenizer = text.Tokenizer(num_words=max_words, char_level=False)"
      ],
      "execution_count": 29,
      "outputs": []
    },
    {
      "cell_type": "code",
      "metadata": {
        "colab": {
          "base_uri": "https://localhost:8080/"
        },
        "id": "dGElW3wFOiuG",
        "outputId": "b854d15f-010b-417c-898e-8740e27725d1"
      },
      "source": [
        "tokenizer.fit_on_texts(X_train['captions']) \r\n",
        "x_train = tokenizer.texts_to_matrix(X_train['captions'])\r\n",
        "x_test = tokenizer.texts_to_matrix(X_test['captions'])\r\n",
        "x_train"
      ],
      "execution_count": 31,
      "outputs": [
        {
          "output_type": "execute_result",
          "data": {
            "text/plain": [
              "array([[0., 1., 0., ..., 0., 0., 0.],\n",
              "       [0., 1., 1., ..., 0., 0., 0.],\n",
              "       [0., 1., 1., ..., 0., 0., 0.],\n",
              "       ...,\n",
              "       [0., 1., 1., ..., 0., 0., 0.],\n",
              "       [0., 1., 1., ..., 0., 0., 0.],\n",
              "       [0., 1., 1., ..., 0., 0., 0.]])"
            ]
          },
          "metadata": {
            "tags": []
          },
          "execution_count": 31
        }
      ]
    },
    {
      "cell_type": "code",
      "metadata": {
        "colab": {
          "base_uri": "https://localhost:8080/"
        },
        "id": "eIes7LopO8pi",
        "outputId": "93c110f7-62f3-4ce9-dfed-29a1b1b8205a"
      },
      "source": [
        "x_test"
      ],
      "execution_count": 32,
      "outputs": [
        {
          "output_type": "execute_result",
          "data": {
            "text/plain": [
              "array([[0., 1., 1., ..., 0., 0., 1.],\n",
              "       [0., 1., 1., ..., 0., 0., 0.],\n",
              "       [0., 1., 1., ..., 0., 0., 0.],\n",
              "       ...,\n",
              "       [0., 1., 1., ..., 0., 0., 0.],\n",
              "       [0., 1., 1., ..., 0., 0., 0.],\n",
              "       [0., 1., 1., ..., 0., 0., 0.]])"
            ]
          },
          "metadata": {
            "tags": []
          },
          "execution_count": 32
        }
      ]
    },
    {
      "cell_type": "code",
      "metadata": {
        "colab": {
          "base_uri": "https://localhost:8080/"
        },
        "id": "LQkviOeSPFaI",
        "outputId": "690066d6-3e81-4054-ed83-0ea208d1b6e3"
      },
      "source": [
        "print(f'shape of new x_train is: {x_train.shape}')\r\n",
        "print(f'shape of new x_test is: {x_test.shape}')"
      ],
      "execution_count": 34,
      "outputs": [
        {
          "output_type": "stream",
          "text": [
            "shape of new x_train is: (532, 1500)\n",
            "shape of new x_test is: (380, 1500)\n"
          ],
          "name": "stdout"
        }
      ]
    },
    {
      "cell_type": "markdown",
      "metadata": {
        "id": "zgcCHVjTPtho"
      },
      "source": [
        "in both encoder and tokenizer we only fit on train for consistency"
      ]
    },
    {
      "cell_type": "code",
      "metadata": {
        "id": "HsBYBUQ-Pc-v"
      },
      "source": [
        "le = LabelEncoder()\r\n",
        "le.fit(X_train['tags'])\r\n",
        "y_train = le.transform(X_train['tags'])\r\n",
        "y_test = le.transform(X_test['tags'])"
      ],
      "execution_count": 35,
      "outputs": []
    },
    {
      "cell_type": "code",
      "metadata": {
        "colab": {
          "base_uri": "https://localhost:8080/"
        },
        "id": "m64FspuFP-0n",
        "outputId": "a5083183-b296-4501-a22b-866c955704f5"
      },
      "source": [
        "print(f'shape of new y_train is: {y_train.shape}')\r\n",
        "print(f'shape of new y_test is: {y_test.shape}')"
      ],
      "execution_count": 36,
      "outputs": [
        {
          "output_type": "stream",
          "text": [
            "shape of new y_train is: (532,)\n",
            "shape of new y_test is: (380,)\n"
          ],
          "name": "stdout"
        }
      ]
    },
    {
      "cell_type": "markdown",
      "metadata": {
        "id": "6YR-w9hPQOfP"
      },
      "source": [
        "Convert the enoded y_train and y_test to one-hot representation"
      ]
    },
    {
      "cell_type": "code",
      "metadata": {
        "colab": {
          "base_uri": "https://localhost:8080/"
        },
        "id": "NVb477nxQiC9",
        "outputId": "c2c47475-b05b-46b4-9cc9-aecfcf59f556"
      },
      "source": [
        "num_tags = np.max(y_train) + 1\r\n",
        "y_train = utils.to_categorical(y_train, num_tags)\r\n",
        "y_test = utils.to_categorical(y_test, num_tags)\r\n",
        "y_train"
      ],
      "execution_count": 38,
      "outputs": [
        {
          "output_type": "execute_result",
          "data": {
            "text/plain": [
              "array([[0., 0., 1., ..., 0., 0., 0.],\n",
              "       [1., 0., 0., ..., 0., 0., 0.],\n",
              "       [0., 1., 0., ..., 0., 0., 0.],\n",
              "       ...,\n",
              "       [0., 0., 0., ..., 0., 0., 0.],\n",
              "       [0., 0., 0., ..., 0., 1., 0.],\n",
              "       [0., 0., 0., ..., 1., 0., 0.]], dtype=float32)"
            ]
          },
          "metadata": {
            "tags": []
          },
          "execution_count": 38
        }
      ]
    },
    {
      "cell_type": "code",
      "metadata": {
        "colab": {
          "base_uri": "https://localhost:8080/"
        },
        "id": "Hwc0hlFbQtIl",
        "outputId": "f348b58c-5982-4df8-915d-1f772c56da9c"
      },
      "source": [
        "y_test"
      ],
      "execution_count": 39,
      "outputs": [
        {
          "output_type": "execute_result",
          "data": {
            "text/plain": [
              "array([[1., 0., 0., ..., 0., 0., 0.],\n",
              "       [0., 0., 0., ..., 0., 0., 0.],\n",
              "       [0., 0., 0., ..., 0., 0., 0.],\n",
              "       ...,\n",
              "       [0., 0., 0., ..., 1., 0., 0.],\n",
              "       [0., 0., 0., ..., 0., 0., 0.],\n",
              "       [0., 0., 0., ..., 0., 0., 0.]], dtype=float32)"
            ]
          },
          "metadata": {
            "tags": []
          },
          "execution_count": 39
        }
      ]
    },
    {
      "cell_type": "code",
      "metadata": {
        "colab": {
          "base_uri": "https://localhost:8080/"
        },
        "id": "udRHS6PtQzdO",
        "outputId": "feeb9c85-4b2f-4029-c4f5-030e27cb25f4"
      },
      "source": [
        "print(f'shape of new x_train is: {x_train.shape}')\r\n",
        "print(f'shape of new x_test is: {x_test.shape}')\r\n",
        "print(f'shape of new y_train is: {y_train.shape}')\r\n",
        "print(f'shape of new y_test is: {y_test.shape}')"
      ],
      "execution_count": 40,
      "outputs": [
        {
          "output_type": "stream",
          "text": [
            "shape of new x_train is: (532, 1500)\n",
            "shape of new x_test is: (380, 1500)\n",
            "shape of new y_train is: (532, 19)\n",
            "shape of new y_test is: (380, 19)\n"
          ],
          "name": "stdout"
        }
      ]
    },
    {
      "cell_type": "markdown",
      "metadata": {
        "id": "XwQxR_XSQ_uc"
      },
      "source": [
        "Let's set our hyperparameters  \r\n",
        "we will adjust these later to, if possible, reach higher accuracy"
      ]
    },
    {
      "cell_type": "code",
      "metadata": {
        "id": "r15CKSBZRYga"
      },
      "source": [
        "batch_size = 16\r\n",
        "epochs = 3"
      ],
      "execution_count": 57,
      "outputs": []
    },
    {
      "cell_type": "markdown",
      "metadata": {
        "id": "6mr-nzu4Ror3"
      },
      "source": [
        "Buliding the model"
      ]
    },
    {
      "cell_type": "code",
      "metadata": {
        "id": "OxUmFpr9Rdc-"
      },
      "source": [
        "model = Sequential()\r\n",
        "model.add(Dense(512, input_shape=(max_words,)))\r\n",
        "model.add(Activation('relu'))\r\n",
        "model.add(Dropout(0.5))\r\n",
        "model.add(Dense(num_tags))\r\n",
        "model.add(Activation('softmax'))\r\n",
        "\r\n",
        "model.compile(loss='categorical_crossentropy',\r\n",
        "              optimizer='adam',\r\n",
        "              metrics=['accuracy'])"
      ],
      "execution_count": 46,
      "outputs": []
    },
    {
      "cell_type": "markdown",
      "metadata": {
        "id": "iw404ArDRnea"
      },
      "source": [
        "we have the model, train and test data prepared  \r\n",
        "so let's train the model"
      ]
    },
    {
      "cell_type": "code",
      "metadata": {
        "colab": {
          "base_uri": "https://localhost:8080/"
        },
        "id": "RlyiEGI8SUfF",
        "outputId": "f0e5e744-849a-4c8e-d13b-9756111ec02c"
      },
      "source": [
        "history = model.fit(x_train, y_train, batch_size=batch_size, epochs=epochs,\r\n",
        "                    verbose=1, validation_split=0.1)"
      ],
      "execution_count": 58,
      "outputs": [
        {
          "output_type": "stream",
          "text": [
            "Epoch 1/3\n",
            "30/30 [==============================] - 0s 8ms/step - loss: 0.0532 - accuracy: 1.0000 - val_loss: 0.9621 - val_accuracy: 0.7222\n",
            "Epoch 2/3\n",
            "30/30 [==============================] - 0s 6ms/step - loss: 0.0380 - accuracy: 1.0000 - val_loss: 0.9707 - val_accuracy: 0.7222\n",
            "Epoch 3/3\n",
            "30/30 [==============================] - 0s 7ms/step - loss: 0.0289 - accuracy: 1.0000 - val_loss: 0.9643 - val_accuracy: 0.7037\n"
          ],
          "name": "stdout"
        }
      ]
    },
    {
      "cell_type": "code",
      "metadata": {
        "colab": {
          "base_uri": "https://localhost:8080/"
        },
        "id": "mG3xW1ODS-Gj",
        "outputId": "c215d75e-59b5-4e49-a7e6-8f133632bad2"
      },
      "source": [
        "score = model.evaluate(x_test, y_test, batch_size=batch_size, verbose=1)\r\n",
        "print(f'Test score:{score[0]}')\r\n",
        "print(f'Test accuracy:{score[1]}')"
      ],
      "execution_count": 60,
      "outputs": [
        {
          "output_type": "stream",
          "text": [
            "24/24 [==============================] - 0s 2ms/step - loss: 0.9511 - accuracy: 0.7605\n",
            "Test score:0.9510786533355713\n",
            "Test accuracy:0.7605262994766235\n"
          ],
          "name": "stdout"
        }
      ]
    },
    {
      "cell_type": "code",
      "metadata": {
        "colab": {
          "base_uri": "https://localhost:8080/"
        },
        "id": "CMTOmF5DT2bE",
        "outputId": "ec12b5c7-80fb-44f4-ce14-1520ace92f32"
      },
      "source": [
        "txt_lbls = le.classes_ \r\n",
        "\r\n",
        "for i in range(10):\r\n",
        "    prediction = model.predict(np.array([x_test[i]]))\r\n",
        "    predicted_label = txt_lbls[np.argmax(prediction)]\r\n",
        "    print(X_test['captions'].iloc[i][:50], \"...\")\r\n",
        "    print('Actual label:' + X_test['tags'].iloc[i])\r\n",
        "    print(\"Predicted label: \" + predicted_label + \"\\n\")"
      ],
      "execution_count": 62,
      "outputs": [
        {
          "output_type": "stream",
          "text": [
            "A large passenger plane on a landing strip.\n",
            "A Luft ...\n",
            "Actual label:aeroplane\n",
            "Predicted label: aeroplane\n",
            "\n",
            "A black and white dog sniffing at a closed door.\n",
            "A ...\n",
            "Actual label:dog\n",
            "Predicted label: dog\n",
            "\n",
            "A view of a street filled with vehicles, people, a ...\n",
            "Actual label:bus\n",
            "Predicted label: bus\n",
            "\n",
            "A sailboat at sea\n",
            "A sailboat with a yellow sail in ...\n",
            "Actual label:boat\n",
            "Predicted label: boat\n",
            "\n",
            "a father is introducing his daughter to a cow on a ...\n",
            "Actual label:cow\n",
            "Predicted label: cow\n",
            "\n",
            "A bronze statue of a buddy holding a candle sittin ...\n",
            "Actual label:diningtable\n",
            "Predicted label: chair\n",
            "\n",
            "A cat sitting on sand looking up at the camera\n",
            "A g ...\n",
            "Actual label:cat\n",
            "Predicted label: cat\n",
            "\n",
            "Two African men carry a tied up animal in the bask ...\n",
            "Actual label:bicycle\n",
            "Predicted label: cow\n",
            "\n",
            "A hand holding bird seed and a small bird.\n",
            "A perso ...\n",
            "Actual label:bird\n",
            "Predicted label: bird\n",
            "\n",
            "A group of people sitting around a table on a porc ...\n",
            "Actual label:chair\n",
            "Predicted label: diningtable\n",
            "\n"
          ],
          "name": "stdout"
        }
      ]
    },
    {
      "cell_type": "code",
      "metadata": {
        "id": "DmTaddudU3a1"
      },
      "source": [
        "# This utility function is from the sklearn docs: http://scikit-learn.org/stable/auto_examples/model_selection/plot_confusion_matrix.html\r\n",
        "import itertools\r\n",
        "def plot_confusion_matrix(cm, classes,\r\n",
        "                          title='Confusion matrix',\r\n",
        "                          cmap=plt.cm.Blues):\r\n",
        "    \"\"\"\r\n",
        "    This function prints and plots the confusion matrix.\r\n",
        "    Normalization can be applied by setting `normalize=True`.\r\n",
        "    \"\"\"\r\n",
        "\r\n",
        "    cm = cm.astype('float') / cm.sum(axis=1)[:, np.newaxis]\r\n",
        "\r\n",
        "    plt.imshow(cm, interpolation='nearest', cmap=cmap)\r\n",
        "    plt.title(title, fontsize=30)\r\n",
        "    plt.colorbar()\r\n",
        "    tick_marks = np.arange(len(classes))\r\n",
        "    plt.xticks(tick_marks, classes, rotation=45, fontsize=22)\r\n",
        "    plt.yticks(tick_marks, classes, fontsize=22)\r\n",
        "\r\n",
        "    fmt = '.2f'\r\n",
        "    thresh = cm.max() / 2.\r\n",
        "    for i, j in itertools.product(range(cm.shape[0]), range(cm.shape[1])):\r\n",
        "        plt.text(j, i, format(cm[i, j], fmt),\r\n",
        "                 horizontalalignment=\"center\",\r\n",
        "                 color=\"white\" if cm[i, j] > thresh else \"black\")\r\n",
        "\r\n",
        "    plt.ylabel('True label', fontsize=25)\r\n",
        "    plt.xlabel('Predicted label', fontsize=25)"
      ],
      "execution_count": 70,
      "outputs": []
    },
    {
      "cell_type": "code",
      "metadata": {
        "id": "lPGnriQ5VPCf"
      },
      "source": [
        "y_sm = model.predict(x_test)\r\n",
        "\r\n",
        "y_test_1d = []\r\n",
        "y_pred_1d = []\r\n",
        "\r\n",
        "for i in range(len(y_test)):\r\n",
        "    probs = y_test[i]\r\n",
        "    index_arr = np.nonzero(probs)\r\n",
        "    one_hot_index = index_arr[0].item(0)\r\n",
        "    y_test_1d.append(one_hot_index)\r\n",
        "\r\n",
        "for i in range(0, len(y_sm)):\r\n",
        "    probs = y_sm[i]\r\n",
        "    predicted_index = np.argmax(probs)\r\n",
        "    y_pred_1d.append(predicted_index)"
      ],
      "execution_count": 65,
      "outputs": []
    },
    {
      "cell_type": "code",
      "metadata": {
        "id": "v-1C_k8bVeB_",
        "outputId": "cea3b00f-26c5-401b-8aea-f67604f4bd87",
        "colab": {
          "base_uri": "https://localhost:8080/",
          "height": 1000
        }
      },
      "source": [
        "cnf_matrix = confusion_matrix(y_test_1d, y_pred_1d)\r\n",
        "plt.figure(figsize=(24,20))\r\n",
        "plot_confusion_matrix(cnf_matrix, classes=txt_lbls, title=\"Confusion matrix\")\r\n",
        "plt.show()"
      ],
      "execution_count": 71,
      "outputs": [
        {
          "output_type": "display_data",
          "data": {
            "image/png": "[encoded data removed]",
            "text/plain": [
              "<Figure size 1728x1440 with 2 Axes>"
            ]
          },
          "metadata": {
            "tags": [],
            "needs_background": "light"
          }
        }
      ]
    }
  ]
}