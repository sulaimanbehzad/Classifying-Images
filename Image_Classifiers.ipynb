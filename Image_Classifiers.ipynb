{
  "nbformat": 4,
  "nbformat_minor": 0,
  "metadata": {
    "colab": {
      "name": "Image Classifiers.ipynb",
      "provenance": [],
      "mount_file_id": "https://github.com/sulaimanbehzad/Classifying-Images/blob/main/Image_Classifiers.ipynb",
      "authorship_tag": "ABX9TyOLXXfz2snjwo8EAQ3TNj+V",
      "include_colab_link": true
    },
    "kernelspec": {
      "name": "python3",
      "display_name": "Python 3"
    }
  },
  "cells": [
    {
      "cell_type": "markdown",
      "metadata": {
        "id": "view-in-github",
        "colab_type": "text"
      },
      "source": [
        "<a href=\"https://colab.research.google.com/github/sulaimanbehzad/Classifying-Images/blob/main/Image_Classifiers.ipynb\" target=\"_parent\"><img src=\"https://colab.research.google.com/assets/colab-badge.svg\" alt=\"Open In Colab\"/></a>"
      ]
    },
    {
      "cell_type": "markdown",
      "metadata": {
        "id": "iXCGKES9z2uu"
      },
      "source": [
        "# Classifiers\r\n",
        "The purpose of this project is to train two classifiers:\r\n",
        "1. Captions classifier\r\n",
        "2. Image classifier"
      ]
    },
    {
      "cell_type": "code",
      "metadata": {
        "id": "enfmzwTK6_aE"
      },
      "source": [
        "import pandas as pd\r\n",
        "import numpy as np\r\n",
        "import os\r\n",
        "import glob"
      ],
      "execution_count": 2,
      "outputs": []
    },
    {
      "cell_type": "code",
      "metadata": {
        "id": "eS32CGUV7QZQ"
      },
      "source": [
        "path_train_sentences = r'/content/drive/MyDrive/dataset/train/sentences'                    \r\n",
        "# all_train_sentences = glob.glob(os.path.join(path_train_sentences, \"*.txt\"), ,recursive=True)\r\n",
        "# all_train_sentences\r\n",
        "txt_list = []\r\n",
        "for dirpath, dirnames, filename in os.walk(path_train_sentences):\r\n",
        "    for filename in filename:\r\n",
        "        # create full path\r\n",
        "        txtfile_full_path = os.path.join(dirpath, filename)\r\n",
        "        with open(txtfile_full_path) as f:\r\n",
        "            txt_list.append(f.read())\r\n",
        "txt_list                        \r\n",
        "# df_from_each_file = (pd.read_csv(f) for f in all_files)\r\n",
        "# concatenated_df   = pd.concat(df_from_each_file, ignore_index=True)"
      ],
      "execution_count": null,
      "outputs": []
    }
  ]
}