{
  "nbformat": 4,
  "nbformat_minor": 0,
  "metadata": {
    "colab": {
      "name": "temperature sensor.ipynb",
      "provenance": [],
      "collapsed_sections": [],
      "authorship_tag": "ABX9TyMEf7bocSSNXkUJm1NWFblT",
      "include_colab_link": true
    },
    "kernelspec": {
      "display_name": "Python 3",
      "name": "python3"
    },
    "language_info": {
      "name": "python"
    }
  },
  "cells": [
    {
      "cell_type": "markdown",
      "metadata": {
        "id": "view-in-github",
        "colab_type": "text"
      },
      "source": [
        "<a href=\"https://colab.research.google.com/github/sulaimanbehzad/Classifying-Images/blob/main/HW/2/temperature_sensor.ipynb\" target=\"_parent\"><img src=\"https://colab.research.google.com/assets/colab-badge.svg\" alt=\"Open In Colab\"/></a>"
      ]
    },
    {
      "cell_type": "markdown",
      "metadata": {
        "id": "Q-G0ImMHWvwp"
      },
      "source": [
        "# Checking temperature status of the sensor"
      ]
    },
    {
      "cell_type": "code",
      "metadata": {
        "id": "LGrRlHUyXC-7"
      },
      "source": [
        "## install the python MQTT library"
      ],
      "execution_count": 5,
      "outputs": []
    },
    {
      "cell_type": "code",
      "metadata": {
        "colab": {
          "base_uri": "https://localhost:8080/"
        },
        "id": "Nz_BBngsMSW1",
        "outputId": "54060f10-5974-49e4-fb61-97e09081da7d"
      },
      "source": [
        "! pip install paho.mqtt"
      ],
      "execution_count": 6,
      "outputs": [
        {
          "output_type": "stream",
          "text": [
            "Collecting paho.mqtt\n",
            "\u001b[?25l  Downloading https://files.pythonhosted.org/packages/32/d3/6dcb8fd14746fcde6a556f932b5de8bea8fedcb85b3a092e0e986372c0e7/paho-mqtt-1.5.1.tar.gz (101kB)\n",
            "\r\u001b[K     |███▏                            | 10kB 12.3MB/s eta 0:00:01\r\u001b[K     |██████▍                         | 20kB 5.0MB/s eta 0:00:01\r\u001b[K     |█████████▋                      | 30kB 3.9MB/s eta 0:00:01\r\u001b[K     |████████████▉                   | 40kB 1.7MB/s eta 0:00:01\r\u001b[K     |████████████████                | 51kB 2.0MB/s eta 0:00:01\r\u001b[K     |███████████████████▎            | 61kB 2.2MB/s eta 0:00:01\r\u001b[K     |██████████████████████▌         | 71kB 2.3MB/s eta 0:00:01\r\u001b[K     |█████████████████████████▊      | 81kB 2.5MB/s eta 0:00:01\r\u001b[K     |█████████████████████████████   | 92kB 2.7MB/s eta 0:00:01\r\u001b[K     |████████████████████████████████| 102kB 2.3MB/s \n",
            "\u001b[?25hBuilding wheels for collected packages: paho.mqtt\n",
            "  Building wheel for paho.mqtt (setup.py) ... \u001b[?25l\u001b[?25hdone\n",
            "  Created wheel for paho.mqtt: filename=paho_mqtt-1.5.1-cp37-none-any.whl size=61565 sha256=5e5ebe418d6a3628a1ba67184b1a050de0903a38dd670d1515dc85ad05c6e887\n",
            "  Stored in directory: /root/.cache/pip/wheels/75/e2/f5/78942b19b4d135605e58dfe85fba52253b14d636aabf76904b\n",
            "Successfully built paho.mqtt\n",
            "Installing collected packages: paho.mqtt\n",
            "Successfully installed paho.mqtt\n"
          ],
          "name": "stdout"
        }
      ]
    },
    {
      "cell_type": "code",
      "metadata": {
        "colab": {
          "base_uri": "https://localhost:8080/"
        },
        "id": "Y6aIRDGcM0Jr",
        "outputId": "38ea3c85-f0db-445d-86dd-6ac9b5f38839"
      },
      "source": [
        "pip --version"
      ],
      "execution_count": 7,
      "outputs": [
        {
          "output_type": "stream",
          "text": [
            "pip 19.3.1 from /usr/local/lib/python3.7/dist-packages/pip (python 3.7)\n"
          ],
          "name": "stdout"
        }
      ]
    },
    {
      "cell_type": "markdown",
      "metadata": {
        "id": "yh1-woCfMucK"
      },
      "source": [
        "## Import the libraries needed "
      ]
    },
    {
      "cell_type": "code",
      "metadata": {
        "id": "ab-rfx8AANEt"
      },
      "source": [
        "import paho.mqtt.client as mqtt\n",
        "import paho.mqtt.subscribe as subscribe\n",
        "import time\n",
        "import requests"
      ],
      "execution_count": 8,
      "outputs": []
    },
    {
      "cell_type": "code",
      "metadata": {
        "id": "QI58Sg2_S7oV"
      },
      "source": [
        "def telegram_bot_sendtext(bot_message):\n",
        "    bot_token = '1861332067:AAFxb0opR3GSSMBW2U-4YqJoz0JmjpxAlQI'\n",
        "    bot_chatID = '409409462' #must be updated\n",
        "    send_text = 'https://api.telegram.org/bot' + bot_token + '/sendMessage?chat_id=' + bot_chatID + '&parse_mode=Markdown&text=' + bot_message\n",
        "    response = requests.get(send_text)\n",
        "    return response.json()\n",
        "\n"
      ],
      "execution_count": 9,
      "outputs": []
    },
    {
      "cell_type": "code",
      "metadata": {
        "id": "juCtMauCRDah"
      },
      "source": [
        "def check_payload(payload):\n",
        "  if payload >=35:\n",
        "    telegram_bot_sendtext(\"Room temperature exceeds 35 celcius degress\")\n",
        "  elif payload <= 5:\n",
        "    telegram_bot_sendtext(\"Room temperature dropped lower than 5 celcius degress\")\n",
        "\n"
      ],
      "execution_count": 10,
      "outputs": []
    },
    {
      "cell_type": "code",
      "metadata": {
        "id": "44_TtLWVEE0o"
      },
      "source": [
        "def on_message(client, userdata, message):\n",
        "  payload = int(message.payload.decode(\"utf-8\")) \n",
        "  payload = 40\n",
        "  topic = str(message.topic)\n",
        "  check_payload(payload)\n",
        "  print(\"%s : %d\" % (topic, payload))\n",
        "  print(\"message qos=\",message.qos)\n",
        "  print(\"message retain flag=\",message.retain)"
      ],
      "execution_count": 11,
      "outputs": []
    },
    {
      "cell_type": "code",
      "metadata": {
        "id": "EaVewtVAEIg4"
      },
      "source": [
        "def on_log(client, userdata, level, buf):\n",
        "    print(\"log: \",buf)"
      ],
      "execution_count": 12,
      "outputs": []
    },
    {
      "cell_type": "code",
      "metadata": {
        "colab": {
          "base_uri": "https://localhost:8080/"
        },
        "id": "qYHwQvmWSTwW",
        "collapsed": true,
        "outputId": "6d3b5ce3-98e3-4167-a6b0-6b6ed547aafc"
      },
      "source": [
        "subscribe.callback(on_message, \"iot9902/temp\", hostname=\"broker.hivemq.com\")"
      ],
      "execution_count": null,
      "outputs": [
        {
          "output_type": "stream",
          "text": [
            "iot9902/temp : 40\n",
            "message qos= 0\n",
            "message retain flag= 0\n",
            "iot9902/temp : 40\n",
            "message qos= 0\n",
            "message retain flag= 0\n"
          ],
          "name": "stdout"
        }
      ]
    }
  ]
}